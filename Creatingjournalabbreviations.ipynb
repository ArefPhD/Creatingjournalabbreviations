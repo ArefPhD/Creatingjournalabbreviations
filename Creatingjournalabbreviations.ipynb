{
  "nbformat": 4,
  "nbformat_minor": 0,
  "metadata": {
    "colab": {
      "name": "Untitled210.ipynb",
      "private_outputs": true,
      "provenance": [],
      "collapsed_sections": []
    },
    "kernelspec": {
      "name": "python3",
      "display_name": "Python 3"
    },
    "language_info": {
      "name": "python"
    }
  },
  "cells": [
    {
      "cell_type": "code",
      "execution_count": null,
      "metadata": {
        "id": "CRonPoP5F-1A"
      },
      "outputs": [],
      "source": [
        "from google.colab import files\n",
        "\n",
        "uploaded = files.upload()"
      ]
    },
    {
      "cell_type": "code",
      "source": [
        "import pandas as pd\n",
        "\n",
        "df = pd.read_csv('abbreviated journal list.csv')"
      ],
      "metadata": {
        "id": "IPtovT_-GFuP"
      },
      "execution_count": null,
      "outputs": []
    },
    {
      "cell_type": "code",
      "source": [
        "df"
      ],
      "metadata": {
        "id": "vRb0R8hcGQa3"
      },
      "execution_count": null,
      "outputs": []
    },
    {
      "cell_type": "code",
      "source": [
        "x=df[[\"Accounts of chemical research\"]].to_numpy()\n",
        "y=df[[\"Unnamed: 1\"]].to_numpy()"
      ],
      "metadata": {
        "id": "bPi7mukVGJgv"
      },
      "execution_count": null,
      "outputs": []
    },
    {
      "cell_type": "code",
      "source": [
        "pip install iso4"
      ],
      "metadata": {
        "id": "0EJ9AxB8s4EC"
      },
      "execution_count": null,
      "outputs": []
    },
    {
      "cell_type": "code",
      "source": [
        "nltk.download(\"wordnet\", \"whatever_the_absolute_path_to_myapp_is/nltk_data/\")\n"
      ],
      "metadata": {
        "id": "TAZJXuaJtNk4"
      },
      "execution_count": null,
      "outputs": []
    },
    {
      "cell_type": "code",
      "source": [
        "nltk.download('wordnet')"
      ],
      "metadata": {
        "id": "AdkVVhWQtXWd"
      },
      "execution_count": null,
      "outputs": []
    },
    {
      "cell_type": "code",
      "source": [
        "from iso4 import abbreviate\n"
      ],
      "metadata": {
        "id": "Vj47gOCGuD-U"
      },
      "execution_count": null,
      "outputs": []
    },
    {
      "cell_type": "code",
      "source": [
        "import nltk\n",
        "nltk.download('omw-1.4')"
      ],
      "metadata": {
        "id": "qzqnxydcuD4g"
      },
      "execution_count": null,
      "outputs": []
    },
    {
      "cell_type": "code",
      "source": [
        "\n",
        "abbreviate(\"APPLIED POLYMER SCIENCE\")\n"
      ],
      "metadata": {
        "id": "e-5JfWVTtCg9"
      },
      "execution_count": null,
      "outputs": []
    },
    {
      "cell_type": "code",
      "source": [
        "x[0]"
      ],
      "metadata": {
        "id": "UN-OuT2VudX1"
      },
      "execution_count": null,
      "outputs": []
    },
    {
      "cell_type": "code",
      "source": [
        "abbreviate(str(x[4]))"
      ],
      "metadata": {
        "id": "L5FFGwCzuRI5"
      },
      "execution_count": null,
      "outputs": []
    },
    {
      "cell_type": "code",
      "source": [
        "from nltk.tokenize import WhitespaceTokenizer, word_tokenize\n",
        "from nltk.tokenize import WordPunctTokenizer\n",
        "from nltk.corpus import stopwords\n",
        "nltk.download('stopwords')\n",
        "from nltk.tokenize import word_tokenize\n",
        "L=[]\n",
        "S=[]\n",
        "for i in range(0,len(y)):\n",
        "    tokens = abbreviate(str(x[i]))\n",
        "    #tokens = [word for word in tokens if not word in stopwords.words()]\n",
        "\n",
        "    L.append(tokens)\n",
        "\n"
      ],
      "metadata": {
        "id": "OA_JRpjpG-KL"
      },
      "execution_count": null,
      "outputs": []
    },
    {
      "cell_type": "code",
      "source": [
        "import numpy as np"
      ],
      "metadata": {
        "id": "J5J2YyFxvcu2"
      },
      "execution_count": null,
      "outputs": []
    },
    {
      "cell_type": "code",
      "source": [
        "P=np.array(L)\n"
      ],
      "metadata": {
        "id": "vXWTal4Ihlay"
      },
      "execution_count": null,
      "outputs": []
    },
    {
      "cell_type": "code",
      "source": [
        "len(x)"
      ],
      "metadata": {
        "id": "If5HE8PqvmTZ"
      },
      "execution_count": null,
      "outputs": []
    },
    {
      "cell_type": "code",
      "source": [
        "df['K']=P"
      ],
      "metadata": {
        "id": "R84JkN6DvfYv"
      },
      "execution_count": null,
      "outputs": []
    },
    {
      "cell_type": "code",
      "source": [
        "df.to_csv('data.csv')\n",
        "\n"
      ],
      "metadata": {
        "id": "4a-5q72tv0cg"
      },
      "execution_count": null,
      "outputs": []
    },
    {
      "cell_type": "code",
      "source": [
        "from google.colab import files\n",
        "files.download(\"data.csv\")"
      ],
      "metadata": {
        "id": "ohP9rVAIwKqR"
      },
      "execution_count": null,
      "outputs": []
    }
  ]
}